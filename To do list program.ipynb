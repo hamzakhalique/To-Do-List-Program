{
 "cells": [
  {
   "cell_type": "markdown",
   "id": "6a254c59",
   "metadata": {},
   "source": [
    "# Basic To Do List Methods:"
   ]
  },
  {
   "cell_type": "markdown",
   "id": "df145bdd",
   "metadata": {},
   "source": [
    "### THINGS TO DO:\n",
    "\n",
    "#### Apply filtering techniques for your lists:\n",
    "Need to be able to organize by due date:\n",
    "    - convert dates into datetime objects to be able to do this\n",
    "    \n",
    "Need to be able to organize by urgency:\n",
    "    - all items that are high go first, then med, then low"
   ]
  },
  {
   "cell_type": "code",
   "execution_count": 1,
   "id": "8ebed612",
   "metadata": {},
   "outputs": [],
   "source": [
    "from datetime import datetime as dt\n",
    "import pyinputplus as pyip\n",
    "\n",
    "\"\"\"\n",
    "Assert urgency options when creating control flows using pyip.inputChoice()\n",
    "This will assert the available options on the \"front-end\" preventing the need\n",
    "to encode it in the back-end.\n",
    "\"\"\"\n",
    "urgency_options = [\"low\", \"med\", \"high\"]\n",
    "\n",
    "# CREATE FUNCTIONS\n",
    "\n",
    "# create the to_do_list\n",
    "def create_basic_list(task_name, start_date, due_date, status=False, urgency=\"med\"):\n",
    "    \n",
    "    assert type(task_name) == str\n",
    "    assert type(start_date) == str\n",
    "    assert type(due_date) == str\n",
    "    assert type(status) == bool\n",
    "    assert urgency.lower() in urgency_options, f\"Your input: {urgency} is not a valid option (low,med,high). Please try again.\"\n",
    "    \n",
    "    \n",
    "    new_basic_task_list = {\n",
    "        task_name: {\n",
    "            \"start_date\":dt.strptime(start_date, '%b %d, %Y, %H:%M:%S'),\n",
    "            \"due_date\":dt.strptime(due_date, '%b %d, %Y, %H:%M:%S'),\n",
    "            \"status\":status,\n",
    "            \"urgency\":urgency,\n",
    "        }\n",
    "    }\n",
    "    \n",
    "    return new_basic_task_list\n",
    "\n",
    "# UPDATE/CHANGE FUNCTIONS\n",
    "\n",
    "def add_element_to_basic_list(basic_list, task_name, start_date, due_date, status=False, urgency=\"med\"):\n",
    "    \n",
    "    # type assertions for parameters\n",
    "    assert type(task_name) == str\n",
    "    assert type(start_date) == str\n",
    "    assert type(due_date) == str\n",
    "    assert type(status) == bool\n",
    "    assert urgency.lower() in urgency_options, f\"Your input: {urgency} is not a valid option (low,med,high). Please try again.\"\n",
    "\n",
    "    \n",
    "    basic_list[task_name] = {\n",
    "        # format ex. Jan 8, 2020, 17:00:00 \n",
    "        # (short form of month (jan, feb, etc., day, comma, year, comma, Hour: Min: Sec (military)))\n",
    "        \"start_date\":dt.strptime(start_date, '%b %d, %Y, %H:%M:%S'), \n",
    "        \"due_date\":dt.strptime(due_date, '%b %d, %Y, %H:%M:%S'),\n",
    "        \"status\":status,\n",
    "        \"urgency\":urgency,\n",
    "    }\n",
    "    \n",
    "    # this would overwrite the current data stored in this basic list when formatted as a class\n",
    "    return basic_list\n",
    "\n",
    "# change status key from false, representing uncompleted to true, representing completed\n",
    "def complete_task(basic_list, task):\n",
    "    assert type(task) == str\n",
    "    assert type(task) == str, f\"Your input: {task} is not a str. Cannot use to access dictionary in basic list.\"\n",
    "    \n",
    "    basic_list[task][\"status\"] = True\n",
    "    \n",
    "    # add print statement describing the change?\n",
    "\n",
    "# this will change the due date of a task \n",
    "def change_due_date(basic_list, task, new_due_date):\n",
    "    assert type(new_due_date) == str\n",
    "    assert type(task) == str, f\"Your input: {task} is not a str. Cannot use to access dictionary in basic list.\"\n",
    "    \n",
    "    basic_list[task][\"due_date\"] = new_due_date\n",
    "    \n",
    "    response = pyip.inputYesNo(prompt=f\"Would you like to change the start date for {task} as well? (yes/no)\")\n",
    "    if response == \"yes\":\n",
    "        new_start_date = input(f\"Please enter the new start date for {task} (e.g. Jan 4, 2021, 00:00:00): \")\n",
    "        basic_list[task][\"start_date\"] = dt.strptime(new_start_date, '%b %d, %Y, %H:%M:%S')\n",
    "    else:\n",
    "        print(f\"Okay, the start date will not be changed for {task}.\")  \n",
    "        \n",
    "# change urgency of task in basic list\n",
    "def change_urgency(basic_list, task, urgency):\n",
    "    assert urgency.lower() in urgency_options, f\"Your input: {urgency} is not a valid option (low,med,high). Please try again.\"\n",
    "    assert type(task) == str, f\"Your input: {task} is not a str. Cannot use to access dictionary in basic list.\"\n",
    "    \n",
    "    basic_list[task][\"urgency\"] = urgency\n",
    "    \n",
    "# VIEW FUNCTIONS\n",
    "\n",
    "# list all tasks in basic list <- format this a little better so it looks clean\n",
    "def list_all_tasks(basic_list):\n",
    "    completed = \"Completed\"\n",
    "    not_completed = \"Not completed\"\n",
    "    \n",
    "    print(\"TASK VIEW\".center(117,\"=\"))\n",
    "    task_no = 1\n",
    "    for k,v in basic_list.items():\n",
    "        print(f\"task {task_no}: {k} -\\n\\t\\tstart date: {v['start_date']}\")\n",
    "        print(f\"\\t\\tdue date: {v['due_date']}\")\n",
    "        print(f\"\\t\\tstatus: {completed}\" if v['status'] == True else f\"\\t\\tstatus: {not_completed}\")\n",
    "        print(f\"\\t\\turgency: {v['urgency']}\")\n",
    "        print(\"\".center(117,\"-\"))\n",
    "        task_no += 1\n",
    "    print(\"\".center(117,\"=\"))\n",
    "    \n",
    "# list all tasks that are completed in basic list\n",
    "def task_completion(basic_list):\n",
    "    completed = 0\n",
    "    not_completed = 0\n",
    "\n",
    "    completed_tasks = list()\n",
    "    uncompleted_tasks = list()\n",
    "\n",
    "    for k,v in basic_list.items():\n",
    "        if v[\"status\"] == True:\n",
    "            completed_tasks.append(k)\n",
    "            completed += 1\n",
    "        else:\n",
    "            uncompleted_tasks.append(k)\n",
    "            not_completed += 1 \n",
    "    \n",
    "    # change the BASIC LIST into the name of the list instead\n",
    "    print(\"BASIC LIST\".center(117,\"=\"))\n",
    "    print(f\"Number of tasks in list: {completed + not_completed}\")\n",
    "    print(\"\".center(117,\"-\"))\n",
    "    print(f\"Completed tasks -\\n\\tNumber of tasks completed: {completed}\\n\\tTasks: {completed_tasks}\\n\")\n",
    "    print(f\"Uncompleted tasks -\\n\\tNumber of tasks left to complete: {not_completed}\\n\\tTasks: {uncompleted_tasks}\")\n",
    "    print(\"\".center(117,\"=\"))                \n",
    "                 \n",
    "# DELETE FUNCTIONS\n",
    "\n",
    "# deletes a basic list\n",
    "def delete_basic_list(basic_list):\n",
    "    basic_list.clear()\n",
    "\n",
    "    return basic_list\n",
    "\n",
    "# removes an entire task from the basic list\n",
    "def remove_task(basic_list, task):\n",
    "    assert type(task) == str, f\"Your input: {task} is not a str. Cannot use to access dictionary in basic list.\"\n",
    "    \n",
    "    del basic_list[task]\n",
    "    \n",
    "    return basic_list\n"
   ]
  },
  {
   "cell_type": "code",
   "execution_count": 2,
   "id": "dbce7302",
   "metadata": {},
   "outputs": [],
   "source": [
    "# tests\n",
    "basic_list = create_basic_list(\"do_laundry\",\"Jan 3, 2021, 00:00:00\",\"Jan 4, 2021, 00:00:00\")\n",
    "basic_list = add_element_to_basic_list(basic_list, \"do_groceries\", \"Jan 4, 2021, 15:00:00\", \"Jan 5, 2021, 00:00:00\")\n",
    "basic_list = add_element_to_basic_list(basic_list, \"work_on_code\", \"Jan 5, 2021, 00:00:00\", \"Jan 8, 2022, 00:00:00\", urgency=\"low\")\n",
    "basic_list = add_element_to_basic_list(basic_list, \"work_on_project\", \"Jan 4, 2021, 00:00:00\", \"Jan 9, 2022, 00:00:00\", urgency=\"high\")\n",
    "basic_list = add_element_to_basic_list(basic_list, \"clean_room\", \"Jan 17, 2021, 00:00:00\", \"Jan 25, 2022, 00:00:00\", urgency=\"high\")"
   ]
  },
  {
   "cell_type": "code",
   "execution_count": 3,
   "id": "83cbfec1",
   "metadata": {},
   "outputs": [
    {
     "data": {
      "text/plain": [
       "{'do_laundry': {'start_date': datetime.datetime(2021, 1, 3, 0, 0),\n",
       "  'due_date': datetime.datetime(2021, 1, 4, 0, 0),\n",
       "  'status': False,\n",
       "  'urgency': 'med'},\n",
       " 'do_groceries': {'start_date': datetime.datetime(2021, 1, 4, 15, 0),\n",
       "  'due_date': datetime.datetime(2021, 1, 5, 0, 0),\n",
       "  'status': False,\n",
       "  'urgency': 'med'},\n",
       " 'work_on_code': {'start_date': datetime.datetime(2021, 1, 5, 0, 0),\n",
       "  'due_date': datetime.datetime(2022, 1, 8, 0, 0),\n",
       "  'status': False,\n",
       "  'urgency': 'low'},\n",
       " 'work_on_project': {'start_date': datetime.datetime(2021, 1, 4, 0, 0),\n",
       "  'due_date': datetime.datetime(2022, 1, 9, 0, 0),\n",
       "  'status': False,\n",
       "  'urgency': 'high'},\n",
       " 'clean_room': {'start_date': datetime.datetime(2021, 1, 17, 0, 0),\n",
       "  'due_date': datetime.datetime(2022, 1, 25, 0, 0),\n",
       "  'status': False,\n",
       "  'urgency': 'high'}}"
      ]
     },
     "execution_count": 3,
     "metadata": {},
     "output_type": "execute_result"
    }
   ],
   "source": [
    "basic_list"
   ]
  },
  {
   "cell_type": "code",
   "execution_count": 4,
   "id": "a098b065",
   "metadata": {},
   "outputs": [
    {
     "name": "stdout",
     "output_type": "stream",
     "text": [
      "======================================================TASK VIEW======================================================\n",
      "task 1: do_laundry -\n",
      "\t\tstart date: 2021-01-03 00:00:00\n",
      "\t\tdue date: 2021-01-04 00:00:00\n",
      "\t\tstatus: Not completed\n",
      "\t\turgency: med\n",
      "---------------------------------------------------------------------------------------------------------------------\n",
      "task 2: do_groceries -\n",
      "\t\tstart date: 2021-01-04 15:00:00\n",
      "\t\tdue date: 2021-01-05 00:00:00\n",
      "\t\tstatus: Not completed\n",
      "\t\turgency: med\n",
      "---------------------------------------------------------------------------------------------------------------------\n",
      "task 3: work_on_code -\n",
      "\t\tstart date: 2021-01-05 00:00:00\n",
      "\t\tdue date: 2022-01-08 00:00:00\n",
      "\t\tstatus: Not completed\n",
      "\t\turgency: low\n",
      "---------------------------------------------------------------------------------------------------------------------\n",
      "task 4: work_on_project -\n",
      "\t\tstart date: 2021-01-04 00:00:00\n",
      "\t\tdue date: 2022-01-09 00:00:00\n",
      "\t\tstatus: Not completed\n",
      "\t\turgency: high\n",
      "---------------------------------------------------------------------------------------------------------------------\n",
      "task 5: clean_room -\n",
      "\t\tstart date: 2021-01-17 00:00:00\n",
      "\t\tdue date: 2022-01-25 00:00:00\n",
      "\t\tstatus: Not completed\n",
      "\t\turgency: high\n",
      "---------------------------------------------------------------------------------------------------------------------\n",
      "=====================================================================================================================\n"
     ]
    }
   ],
   "source": [
    "list_all_tasks(basic_list)"
   ]
  },
  {
   "cell_type": "code",
   "execution_count": 5,
   "id": "eeecc69d",
   "metadata": {},
   "outputs": [
    {
     "name": "stdout",
     "output_type": "stream",
     "text": [
      "======================================================BASIC LIST=====================================================\n",
      "Number of tasks in list: 5\n",
      "---------------------------------------------------------------------------------------------------------------------\n",
      "Completed tasks -\n",
      "\tNumber of tasks completed: 0\n",
      "\tTasks: []\n",
      "\n",
      "Uncompleted tasks -\n",
      "\tNumber of tasks left to complete: 5\n",
      "\tTasks: ['do_laundry', 'do_groceries', 'work_on_code', 'work_on_project', 'clean_room']\n",
      "=====================================================================================================================\n"
     ]
    }
   ],
   "source": [
    "task_completion(basic_list)"
   ]
  },
  {
   "cell_type": "code",
   "execution_count": 6,
   "id": "51332527",
   "metadata": {},
   "outputs": [],
   "source": [
    "complete_task(basic_list, \"do_laundry\")"
   ]
  },
  {
   "cell_type": "code",
   "execution_count": 7,
   "id": "626a65f8",
   "metadata": {},
   "outputs": [
    {
     "data": {
      "text/plain": [
       "{'do_laundry': {'start_date': datetime.datetime(2021, 1, 3, 0, 0),\n",
       "  'due_date': datetime.datetime(2021, 1, 4, 0, 0),\n",
       "  'status': True,\n",
       "  'urgency': 'med'},\n",
       " 'do_groceries': {'start_date': datetime.datetime(2021, 1, 4, 15, 0),\n",
       "  'due_date': datetime.datetime(2021, 1, 5, 0, 0),\n",
       "  'status': False,\n",
       "  'urgency': 'med'},\n",
       " 'work_on_code': {'start_date': datetime.datetime(2021, 1, 5, 0, 0),\n",
       "  'due_date': datetime.datetime(2022, 1, 8, 0, 0),\n",
       "  'status': False,\n",
       "  'urgency': 'low'},\n",
       " 'work_on_project': {'start_date': datetime.datetime(2021, 1, 4, 0, 0),\n",
       "  'due_date': datetime.datetime(2022, 1, 9, 0, 0),\n",
       "  'status': False,\n",
       "  'urgency': 'high'},\n",
       " 'clean_room': {'start_date': datetime.datetime(2021, 1, 17, 0, 0),\n",
       "  'due_date': datetime.datetime(2022, 1, 25, 0, 0),\n",
       "  'status': False,\n",
       "  'urgency': 'high'}}"
      ]
     },
     "execution_count": 7,
     "metadata": {},
     "output_type": "execute_result"
    }
   ],
   "source": [
    "basic_list"
   ]
  },
  {
   "cell_type": "code",
   "execution_count": 10,
   "id": "018b18b7",
   "metadata": {},
   "outputs": [],
   "source": [
    "# change dates in general\n",
    "import pyinputplus as pyip\n",
    "def change_due_date(basic_list, task, new_due_date):\n",
    "    assert type(new_due_date) == str\n",
    "    assert type(task) == str, f\"Your input: {task} is not a str. Cannot use to access dictionary in basic list.\"\n",
    "    \n",
    "    basic_list[task][\"due_date\"] = new_due_date\n",
    "    \n",
    "    response = pyip.inputYesNo(prompt=f\"Would you like to change the start date for {task} as well? (yes/no)\")\n",
    "    if response == \"yes\":\n",
    "        new_start_date = input(f\"Please enter the new start date for {task} (e.g. Jan 4, 2021, 00:00:00): \")\n",
    "        basic_list[task][\"start_date\"] = dt.strptime(new_start_date, '%b %d, %Y, %H:%M:%S')\n",
    "    else:\n",
    "        print(f\"Okay, the start date will not be changed for {task}.\")"
   ]
  },
  {
   "cell_type": "code",
   "execution_count": 11,
   "id": "5e16a56e",
   "metadata": {},
   "outputs": [
    {
     "name": "stdout",
     "output_type": "stream",
     "text": [
      "Would you like to change the start date for do_groceries as well? (yes/no)no\n",
      "Okay, the start date will not be changed for do_groceries.\n"
     ]
    }
   ],
   "source": [
    "change_due_date(basic_list, \"do_groceries\", \"Jan 22, 2021, 12:00:00\")"
   ]
  },
  {
   "cell_type": "code",
   "execution_count": 12,
   "id": "6b1febae",
   "metadata": {},
   "outputs": [
    {
     "name": "stdout",
     "output_type": "stream",
     "text": [
      "======================================================TASK VIEW======================================================\n",
      "task 1: do_laundry -\n",
      "\t\tstart date: 2021-01-03 00:00:00\n",
      "\t\tdue date: 2021-01-04 00:00:00\n",
      "\t\tstatus: Completed\n",
      "\t\turgency: med\n",
      "---------------------------------------------------------------------------------------------------------------------\n",
      "task 2: do_groceries -\n",
      "\t\tstart date: 2021-01-04 15:00:00\n",
      "\t\tdue date: Jan 22, 2021, 12:00:00\n",
      "\t\tstatus: Not completed\n",
      "\t\turgency: med\n",
      "---------------------------------------------------------------------------------------------------------------------\n",
      "task 3: work_on_code -\n",
      "\t\tstart date: 2021-01-05 00:00:00\n",
      "\t\tdue date: 2022-01-08 00:00:00\n",
      "\t\tstatus: Not completed\n",
      "\t\turgency: low\n",
      "---------------------------------------------------------------------------------------------------------------------\n",
      "task 4: work_on_project -\n",
      "\t\tstart date: 2021-01-04 00:00:00\n",
      "\t\tdue date: 2022-01-09 00:00:00\n",
      "\t\tstatus: Not completed\n",
      "\t\turgency: high\n",
      "---------------------------------------------------------------------------------------------------------------------\n",
      "task 5: clean_room -\n",
      "\t\tstart date: 2021-01-17 00:00:00\n",
      "\t\tdue date: 2022-01-25 00:00:00\n",
      "\t\tstatus: Not completed\n",
      "\t\turgency: high\n",
      "---------------------------------------------------------------------------------------------------------------------\n",
      "=====================================================================================================================\n"
     ]
    }
   ],
   "source": [
    "list_all_tasks(basic_list)"
   ]
  },
  {
   "cell_type": "code",
   "execution_count": null,
   "id": "443092e4",
   "metadata": {},
   "outputs": [],
   "source": [
    "# test data for security enabling\n",
    "test_username = \"username_placeholder\"\n",
    "test_password = \"password_placeholder\"\n",
    "\n",
    "# database entry \n",
    "print(\"Welcome to the task program\")\n",
    "while True:\n",
    "    username = str(input(\"Enter your username: \"))\n",
    "    if username == test_username:\n",
    "        break\n",
    "    else:\n",
    "        print(\"That username does not exist. Please try again.\")\n",
    "\n",
    "while True:\n",
    "    password = str(input(\"Enter your password: \"))\n",
    "    if password == test_password:\n",
    "        break\n",
    "    else:\n",
    "        print(\"That password does not exist. Please try again.\")    "
   ]
  }
 ],
 "metadata": {
  "kernelspec": {
   "display_name": "Python 3 (ipykernel)",
   "language": "python",
   "name": "python3"
  },
  "language_info": {
   "codemirror_mode": {
    "name": "ipython",
    "version": 3
   },
   "file_extension": ".py",
   "mimetype": "text/x-python",
   "name": "python",
   "nbconvert_exporter": "python",
   "pygments_lexer": "ipython3",
   "version": "3.9.7"
  }
 },
 "nbformat": 4,
 "nbformat_minor": 5
}
